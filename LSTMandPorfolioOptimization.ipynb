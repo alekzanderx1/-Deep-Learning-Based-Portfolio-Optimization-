{
  "nbformat": 4,
  "nbformat_minor": 0,
  "metadata": {
    "colab": {
      "provenance": []
    },
    "kernelspec": {
      "name": "python3",
      "display_name": "Python 3"
    },
    "language_info": {
      "name": "python"
    }
  },
  "cells": [
    {
      "cell_type": "markdown",
      "source": [
        "## Setup"
      ],
      "metadata": {
        "id": "-1TShnE9GJJp"
      }
    },
    {
      "cell_type": "code",
      "execution_count": 34,
      "metadata": {
        "id": "8n20i6SB0bpQ"
      },
      "outputs": [],
      "source": [
        "import numpy as np\n",
        "import pandas as pd\n",
        "import torch\n",
        "import torch.nn as nn\n",
        "from torch.utils.data import Dataset, DataLoader\n",
        "from tqdm import tqdm\n",
        "import matplotlib.pyplot as plt\n",
        "from collections import defaultdict\n",
        "import torch.optim as optim\n",
        "import torch.nn.functional as F\n",
        "from collections import Counter\n",
        "import random\n",
        "import torch.optim as optim\n",
        "from torch.utils.data import DataLoader, TensorDataset\n",
        "from torchsummary import summary"
      ]
    },
    {
      "cell_type": "code",
      "source": [
        "from google.colab import drive\n",
        "drive.mount('/content/drive')"
      ],
      "metadata": {
        "colab": {
          "base_uri": "https://localhost:8080/"
        },
        "id": "ntPp9tV0PRPZ",
        "outputId": "af342b8b-c563-477a-8cb2-70a02091b506"
      },
      "execution_count": 2,
      "outputs": [
        {
          "output_type": "stream",
          "name": "stdout",
          "text": [
            "Mounted at /content/drive\n"
          ]
        }
      ]
    },
    {
      "cell_type": "code",
      "source": [
        "# Helper function for creating input to the model given full dataframe\n",
        "def create_dataset(stock_data_full, lookback=30):\n",
        "  # Initialize empty lists for storing sequences and labels\n",
        "  sequences = []\n",
        "  labels = []\n",
        "\n",
        "  # Loop over the data and create 30-day sequences with corresponding labels\n",
        "  for i in range(len(stock_data_full) - lookback):\n",
        "      # Get the 30-day sequence for this row, including all features\n",
        "      sequence = stock_data_full.iloc[i:i+lookback].values\n",
        "      # Append the sequence to the list\n",
        "      sequences.append(np.float32(sequence))\n",
        "      # Get the label for this sequence, which is the stock price on the next trading day\n",
        "      label = stock_data_full.iloc[i+lookback]['Label']\n",
        "      # Append the label to the list\n",
        "      labels.append(label)\n",
        "\n",
        "  # Convert the sequences and labels to numpy arrays\n",
        "  X = np.array(sequences)\n",
        "  y = np.array(labels)\n",
        "\n",
        "  # Print the shapes of X and y to verify they are the correct dimensions\n",
        "  print(X.shape)  # should be (num_sequences, window_size, num_features)\n",
        "  print(y.shape)  # should be (num_sequences,)\n",
        "\n",
        "  print(X.dtype)\n",
        "  print(y.dtype)\n",
        "  return torch.from_numpy(X), torch.tensor(y)"
      ],
      "metadata": {
        "id": "LMiJ7lFaGrPr"
      },
      "execution_count": 35,
      "outputs": []
    },
    {
      "cell_type": "code",
      "source": [
        "# Definition of LSTM model to be used for our traning \n",
        "class LSTMModel(nn.Module):\n",
        "    def __init__(self, input_size, hidden_size, output_size):\n",
        "        super(LSTMModel, self).__init__()\n",
        "        self.hidden_size = hidden_size\n",
        "        self.lstm1 = nn.LSTM(input_size, hidden_size[0], batch_first=True, dropout=0.2)\n",
        "        self.lstm2 = nn.LSTM(hidden_size[0], hidden_size[1], batch_first=True, dropout=0.2)\n",
        "        self.lstm3 = nn.LSTM(hidden_size[1], hidden_size[2], batch_first=True, dropout=0.2)\n",
        "        self.linear = nn.Linear(hidden_size[2], output_size)\n",
        "        \n",
        "    def forward(self, x):\n",
        "        h0 = torch.zeros(1, x.size(0), self.hidden_size[0]).to(device)\n",
        "        c0 = torch.zeros(1, x.size(0), self.hidden_size[0]).to(device)\n",
        "        \n",
        "        out, _ = self.lstm1(x, (h0, c0))\n",
        "        out, _ = self.lstm2(out)\n",
        "        out, _ = self.lstm3(out)\n",
        "        out = self.linear(out[:, -1, :])\n",
        "        \n",
        "        return out"
      ],
      "metadata": {
        "id": "-tXipvWXnzl5"
      },
      "execution_count": 36,
      "outputs": []
    },
    {
      "cell_type": "markdown",
      "source": [
        "## Model Traning on 1 stock to check correctness"
      ],
      "metadata": {
        "id": "4WbyhPXS7HEC"
      }
    },
    {
      "cell_type": "code",
      "source": [
        "# load data\n",
        "df = pd.read_csv('/content/drive/MyDrive/StocksDatasets/WithIndicators/BOM500010Stock.csv')\n",
        "df.set_index('Date', inplace=True)\n",
        "df.sort_index(inplace=True)"
      ],
      "metadata": {
        "id": "gUnXkLMWWt7m"
      },
      "execution_count": 37,
      "outputs": []
    },
    {
      "cell_type": "code",
      "source": [
        "# train-test split for time series\n",
        "train_size = int(len(df) * 0.80)\n",
        "test_size = len(df) - train_size\n",
        "train, test = df[:train_size], df[train_size:]"
      ],
      "metadata": {
        "id": "KWWxRSewRPn3"
      },
      "execution_count": 38,
      "outputs": []
    },
    {
      "cell_type": "code",
      "source": [
        "lookback = 30\n",
        "batch_size =32\n",
        "X_train, y_train = create_dataset(train, lookback=lookback)\n",
        "X_test, y_test = create_dataset(test, lookback=lookback)\n",
        "print(X_train.shape, y_train.shape)\n",
        "print(X_test.shape, y_test.shape)\n",
        "# Create training and testing datasets\n",
        "train_dataset = TensorDataset(X_train, y_train)\n",
        "test_dataset = TensorDataset(X_test, y_test)\n",
        "\n",
        "# Create data loaders for batching the datasets\n",
        "train_loader = DataLoader(train_dataset, batch_size=batch_size, shuffle=True)\n",
        "test_loader = DataLoader(test_dataset, batch_size=batch_size, shuffle=False)"
      ],
      "metadata": {
        "id": "LLkYphN0Jr_s",
        "colab": {
          "base_uri": "https://localhost:8080/"
        },
        "outputId": "3cad2a05-2f89-4583-dee6-164466e97d90"
      },
      "execution_count": 39,
      "outputs": [
        {
          "output_type": "stream",
          "name": "stdout",
          "text": [
            "(2566, 30, 26)\n",
            "(2566,)\n",
            "float32\n",
            "float64\n",
            "(619, 30, 26)\n",
            "(619,)\n",
            "float32\n",
            "float64\n",
            "torch.Size([2566, 30, 26]) torch.Size([2566])\n",
            "torch.Size([619, 30, 26]) torch.Size([619])\n"
          ]
        }
      ]
    },
    {
      "cell_type": "code",
      "source": [
        "from torch.types import Device\n",
        "device = torch.device('cuda' if torch.cuda.is_available() else 'cpu')\n",
        "\n",
        "\n",
        "# Define the model hyperparameters\n",
        "input_size = 26\n",
        "hidden_size = [32, 16, 10]\n",
        "output_size = 1\n",
        "dropout_prob = 0.2\n",
        "\n",
        "# Initialize the model\n",
        "model = LSTMModel(input_size, hidden_size, output_size).to(device)\n",
        "\n",
        "#summary(model, input_size=(30, 26))\n"
      ],
      "metadata": {
        "colab": {
          "base_uri": "https://localhost:8080/"
        },
        "id": "7HmGo_2_4ClO",
        "outputId": "75035a3c-f1f8-4b04-a0e1-2bd1f78b34d8"
      },
      "execution_count": 40,
      "outputs": [
        {
          "output_type": "stream",
          "name": "stderr",
          "text": [
            "/usr/local/lib/python3.10/dist-packages/torch/nn/modules/rnn.py:71: UserWarning: dropout option adds dropout after all but last recurrent layer, so non-zero dropout expects num_layers greater than 1, but got dropout=0.2 and num_layers=1\n",
            "  warnings.warn(\"dropout option adds dropout after all but last \"\n"
          ]
        }
      ]
    },
    {
      "cell_type": "code",
      "source": [
        "device = torch.device('cuda' if torch.cuda.is_available() else 'cpu')\n",
        "\n",
        "# setting up hyperparameters\n",
        "learning_rate = 0.001\n",
        "#batch_size = 64\n",
        "\n",
        "# Initialize the model and the optimizer\n",
        "#model = StockSelectionModel().to(device)\n",
        "optimizer = torch.optim.Adam(model.parameters(), lr=learning_rate, betas=(0.9, 0.999))\n",
        "\n",
        "# Define the loss function\n",
        "criterion = nn.MSELoss()\n"
      ],
      "metadata": {
        "id": "RCM8xBD_JkGp"
      },
      "execution_count": 41,
      "outputs": []
    },
    {
      "cell_type": "code",
      "source": [
        "num_epochs=20\n",
        "# Train the LSTM model\n",
        "for epoch in range(num_epochs):\n",
        "    for i, (sequences, labels) in enumerate(train_loader):\n",
        "        optimizer.zero_grad()\n",
        "        outputs = model(sequences.float()) # cast input tensor to Float\n",
        "        loss = criterion(outputs, labels.float().unsqueeze(1)) # cast label tensor to Float\n",
        "        loss.backward()\n",
        "        nn.utils.clip_grad_norm_(model.parameters(), max_norm=1.0)\n",
        "        optimizer.step()\n",
        "\n",
        "    # Print the loss every 10 epochs\n",
        "    if (epoch + 1) % 10 == 0:\n",
        "        print(f\"Epoch [{epoch+1}/{num_epochs}], Loss: {loss.item():.4f}\")"
      ],
      "metadata": {
        "id": "jjL7ZqkVWCPh",
        "colab": {
          "base_uri": "https://localhost:8080/"
        },
        "outputId": "e5b5e27c-e9b4-4ae1-90e9-619bcef38078"
      },
      "execution_count": 42,
      "outputs": [
        {
          "output_type": "stream",
          "name": "stdout",
          "text": [
            "Epoch [10/20], Loss: 0.7354\n",
            "Epoch [20/20], Loss: 0.3096\n"
          ]
        }
      ]
    },
    {
      "cell_type": "code",
      "source": [
        "correct = 0\n",
        "total = 0\n",
        "with torch.no_grad():\n",
        "    for sequences, labels in test_loader:\n",
        "        outputs = model(sequences)\n",
        "        predicted = torch.round(outputs).flatten().int()\n",
        "        total += labels.size(0)\n",
        "        correct += (predicted == labels).sum().item()\n",
        "\n",
        "print(f\"Accuracy on test set: {100 * correct / total:.2f}%\")\n"
      ],
      "metadata": {
        "colab": {
          "base_uri": "https://localhost:8080/"
        },
        "id": "ZWTx5jokur3p",
        "outputId": "d94f4977-76d0-423d-c007-ce536540c6e8"
      },
      "execution_count": 43,
      "outputs": [
        {
          "output_type": "stream",
          "name": "stdout",
          "text": [
            "Accuracy on test set: 20.03%\n"
          ]
        }
      ]
    },
    {
      "cell_type": "markdown",
      "source": [
        "## Traning pipeline for all 31 stocks"
      ],
      "metadata": {
        "id": "nxZP0VH26qO4"
      }
    },
    {
      "cell_type": "code",
      "source": [
        "traningAccuracies = dict()"
      ],
      "metadata": {
        "id": "gs2EexyP_u6l"
      },
      "execution_count": 44,
      "outputs": []
    },
    {
      "cell_type": "code",
      "source": [
        "def trainAndTestModelOnStock(stock):\n",
        "  fileName = stock + 'Stock.csv'\n",
        "  df = pd.read_csv('/content/drive/MyDrive/StocksDatasets/WithIndicators/' + fileName)\n",
        "  df.set_index('Date', inplace=True)\n",
        "  df.sort_index(inplace=True)\n",
        "  \n",
        "  # train-test split for time series\n",
        "  train_size = int(len(df) * 0.80)\n",
        "  test_size = len(df) - train_size\n",
        "  train, test = df[:train_size], df[train_size:]\n",
        "\n",
        "  lookback = 30\n",
        "  batch_size =32\n",
        "  X_train, y_train = create_dataset(train, lookback=lookback)\n",
        "  X_test, y_test = create_dataset(test, lookback=lookback)\n",
        "  print(X_train.shape, y_train.shape)\n",
        "  print(X_test.shape, y_test.shape)\n",
        "  \n",
        "  # Create training and testing datasets\n",
        "  train_dataset = TensorDataset(X_train, y_train)\n",
        "  test_dataset = TensorDataset(X_test, y_test)\n",
        "\n",
        "  # Create data loaders for batching the datasets\n",
        "  train_loader = DataLoader(train_dataset, batch_size=batch_size, shuffle=True)\n",
        "  test_loader = DataLoader(test_dataset, batch_size=batch_size, shuffle=False)\n",
        "\n",
        "  from torch.types import Device\n",
        "  device = torch.device('cuda' if torch.cuda.is_available() else 'cpu')\n",
        "\n",
        "  # Define the model hyperparameters\n",
        "  input_size = 26\n",
        "  hidden_size = [32, 16, 10]\n",
        "  output_size = 1\n",
        "  dropout_prob = 0.2\n",
        "  learning_rate = 0.001\n",
        "\n",
        "  # Initialize the model\n",
        "  model = LSTMModel(input_size, hidden_size, output_size).to(device)\n",
        "  optimizer = torch.optim.Adam(model.parameters(), lr=learning_rate, betas=(0.9, 0.999))\n",
        "  criterion = nn.MSELoss()\n",
        "\n",
        "  # Train the LSTM model\n",
        "  num_epochs=20\n",
        "  for epoch in range(num_epochs):\n",
        "      for i, (sequences, labels) in enumerate(train_loader):\n",
        "          optimizer.zero_grad()\n",
        "          outputs = model(sequences.float()) # cast input tensor to Float\n",
        "          loss = criterion(outputs, labels.float().unsqueeze(1)) # cast label tensor to Float\n",
        "          loss.backward()\n",
        "          nn.utils.clip_grad_norm_(model.parameters(), max_norm=1.0)\n",
        "          optimizer.step()\n",
        "\n",
        "      # Print the loss every 10 epochs\n",
        "      if (epoch + 1) % 10 == 0:\n",
        "          print(f\"{stock} Epoch [{epoch+1}/{num_epochs}], Loss: {loss.item():.4f}\")\n",
        "  \n",
        "  # Test the Model and save accuracy\n",
        "  correct = 0\n",
        "  total = 0\n",
        "  with torch.no_grad():\n",
        "      for sequences, labels in test_loader:\n",
        "          outputs = model(sequences)\n",
        "          predicted = torch.round(outputs).flatten().int()\n",
        "          total += labels.size(0)\n",
        "          correct += (predicted == labels).sum().item()\n",
        "\n",
        "  print(f\"{stock} Accuracy on test set: {100 * correct / total:.2f}%\")\n",
        "  traningAccuracies[stock] = correct/total\n",
        "\n",
        "\n",
        "\n",
        "\n",
        "\n",
        "\n",
        "\n"
      ],
      "metadata": {
        "id": "pr-G_49f7Xir"
      },
      "execution_count": 45,
      "outputs": []
    },
    {
      "cell_type": "code",
      "source": [
        "STOCKS = ['BOM500875','BOM532939','BOM524715','BOM532215','BOM532648','BOM532500','BOM500470','BOM500570','BOM500112','BOM532540','BOM500209','BOM500295','BOM532174','BOM500180','BOM500696','BOM500510','BOM500247','BOM500520','BOM532921','BOM532977','BOM500182','BOM507685','BOM500010','BOM532454','BOM500820','BOM500312','BOM532898','BOM532187','BOM533278','BOM532555','BOM570001']\n",
        "\n",
        "for stock in STOCKS:\n",
        "  trainAndTestModelOnStock(stock)"
      ],
      "metadata": {
        "colab": {
          "base_uri": "https://localhost:8080/"
        },
        "id": "-I8OAeZD7Scl",
        "outputId": "67b0eeca-1b1b-473d-be34-7264bb4b5bf3"
      },
      "execution_count": 46,
      "outputs": [
        {
          "output_type": "stream",
          "name": "stdout",
          "text": [
            "(2922, 30, 26)\n",
            "(2922,)\n",
            "float32\n",
            "float64\n",
            "(708, 30, 26)\n",
            "(708,)\n",
            "float32\n",
            "float64\n",
            "torch.Size([2922, 30, 26]) torch.Size([2922])\n",
            "torch.Size([708, 30, 26]) torch.Size([708])\n"
          ]
        },
        {
          "output_type": "stream",
          "name": "stderr",
          "text": [
            "/usr/local/lib/python3.10/dist-packages/torch/nn/modules/rnn.py:71: UserWarning: dropout option adds dropout after all but last recurrent layer, so non-zero dropout expects num_layers greater than 1, but got dropout=0.2 and num_layers=1\n",
            "  warnings.warn(\"dropout option adds dropout after all but last \"\n"
          ]
        },
        {
          "output_type": "stream",
          "name": "stdout",
          "text": [
            "BOM500875 Epoch [10/20], Loss: 0.5820\n",
            "BOM500875 Epoch [20/20], Loss: 0.2924\n",
            "BOM500875 Accuracy on test set: 57.77%\n",
            "(2134, 30, 26)\n",
            "(2134,)\n",
            "float32\n",
            "float64\n",
            "(512, 30, 26)\n",
            "(512,)\n",
            "float32\n",
            "float64\n",
            "torch.Size([2134, 30, 26]) torch.Size([2134])\n",
            "torch.Size([512, 30, 26]) torch.Size([512])\n"
          ]
        },
        {
          "output_type": "stream",
          "name": "stderr",
          "text": [
            "/usr/local/lib/python3.10/dist-packages/torch/nn/modules/rnn.py:71: UserWarning: dropout option adds dropout after all but last recurrent layer, so non-zero dropout expects num_layers greater than 1, but got dropout=0.2 and num_layers=1\n",
            "  warnings.warn(\"dropout option adds dropout after all but last \"\n"
          ]
        },
        {
          "output_type": "stream",
          "name": "stdout",
          "text": [
            "BOM532939 Epoch [10/20], Loss: 0.5374\n",
            "BOM532939 Epoch [20/20], Loss: 0.5786\n",
            "BOM532939 Accuracy on test set: 62.70%\n",
            "(2922, 30, 26)\n",
            "(2922,)\n",
            "float32\n",
            "float64\n",
            "(708, 30, 26)\n",
            "(708,)\n",
            "float32\n",
            "float64\n",
            "torch.Size([2922, 30, 26]) torch.Size([2922])\n",
            "torch.Size([708, 30, 26]) torch.Size([708])\n"
          ]
        },
        {
          "output_type": "stream",
          "name": "stderr",
          "text": [
            "/usr/local/lib/python3.10/dist-packages/torch/nn/modules/rnn.py:71: UserWarning: dropout option adds dropout after all but last recurrent layer, so non-zero dropout expects num_layers greater than 1, but got dropout=0.2 and num_layers=1\n",
            "  warnings.warn(\"dropout option adds dropout after all but last \"\n"
          ]
        },
        {
          "output_type": "stream",
          "name": "stdout",
          "text": [
            "BOM524715 Epoch [10/20], Loss: 0.2836\n",
            "BOM524715 Epoch [20/20], Loss: 0.4811\n",
            "BOM524715 Accuracy on test set: 38.84%\n",
            "(2926, 30, 26)\n",
            "(2926,)\n",
            "float32\n",
            "float64\n",
            "(709, 30, 26)\n",
            "(709,)\n",
            "float32\n",
            "float64\n",
            "torch.Size([2926, 30, 26]) torch.Size([2926])\n",
            "torch.Size([709, 30, 26]) torch.Size([709])\n"
          ]
        },
        {
          "output_type": "stream",
          "name": "stderr",
          "text": [
            "/usr/local/lib/python3.10/dist-packages/torch/nn/modules/rnn.py:71: UserWarning: dropout option adds dropout after all but last recurrent layer, so non-zero dropout expects num_layers greater than 1, but got dropout=0.2 and num_layers=1\n",
            "  warnings.warn(\"dropout option adds dropout after all but last \"\n"
          ]
        },
        {
          "output_type": "stream",
          "name": "stdout",
          "text": [
            "BOM532215 Epoch [10/20], Loss: 0.3088\n",
            "BOM532215 Epoch [20/20], Loss: 0.3173\n",
            "BOM532215 Accuracy on test set: 72.07%\n",
            "(2650, 30, 26)\n",
            "(2650,)\n",
            "float32\n",
            "float64\n",
            "(641, 30, 26)\n",
            "(641,)\n",
            "float32\n",
            "float64\n",
            "torch.Size([2650, 30, 26]) torch.Size([2650])\n",
            "torch.Size([641, 30, 26]) torch.Size([641])\n"
          ]
        },
        {
          "output_type": "stream",
          "name": "stderr",
          "text": [
            "/usr/local/lib/python3.10/dist-packages/torch/nn/modules/rnn.py:71: UserWarning: dropout option adds dropout after all but last recurrent layer, so non-zero dropout expects num_layers greater than 1, but got dropout=0.2 and num_layers=1\n",
            "  warnings.warn(\"dropout option adds dropout after all but last \"\n"
          ]
        },
        {
          "output_type": "stream",
          "name": "stdout",
          "text": [
            "BOM532648 Epoch [10/20], Loss: 0.4333\n",
            "BOM532648 Epoch [20/20], Loss: 0.5846\n",
            "BOM532648 Accuracy on test set: 41.65%\n",
            "(2925, 30, 26)\n",
            "(2925,)\n",
            "float32\n",
            "float64\n",
            "(709, 30, 26)\n",
            "(709,)\n",
            "float32\n",
            "float64\n",
            "torch.Size([2925, 30, 26]) torch.Size([2925])\n",
            "torch.Size([709, 30, 26]) torch.Size([709])\n"
          ]
        },
        {
          "output_type": "stream",
          "name": "stderr",
          "text": [
            "/usr/local/lib/python3.10/dist-packages/torch/nn/modules/rnn.py:71: UserWarning: dropout option adds dropout after all but last recurrent layer, so non-zero dropout expects num_layers greater than 1, but got dropout=0.2 and num_layers=1\n",
            "  warnings.warn(\"dropout option adds dropout after all but last \"\n"
          ]
        },
        {
          "output_type": "stream",
          "name": "stdout",
          "text": [
            "BOM532500 Epoch [10/20], Loss: 0.1058\n",
            "BOM532500 Epoch [20/20], Loss: 0.6029\n",
            "BOM532500 Accuracy on test set: 43.72%\n",
            "(2922, 30, 26)\n",
            "(2922,)\n",
            "float32\n",
            "float64\n",
            "(708, 30, 26)\n",
            "(708,)\n",
            "float32\n",
            "float64\n",
            "torch.Size([2922, 30, 26]) torch.Size([2922])\n",
            "torch.Size([708, 30, 26]) torch.Size([708])\n"
          ]
        },
        {
          "output_type": "stream",
          "name": "stderr",
          "text": [
            "/usr/local/lib/python3.10/dist-packages/torch/nn/modules/rnn.py:71: UserWarning: dropout option adds dropout after all but last recurrent layer, so non-zero dropout expects num_layers greater than 1, but got dropout=0.2 and num_layers=1\n",
            "  warnings.warn(\"dropout option adds dropout after all but last \"\n"
          ]
        },
        {
          "output_type": "stream",
          "name": "stdout",
          "text": [
            "BOM500470 Epoch [10/20], Loss: 0.2386\n",
            "BOM500470 Epoch [20/20], Loss: 0.0525\n",
            "BOM500470 Accuracy on test set: 43.79%\n",
            "(2922, 30, 26)\n",
            "(2922,)\n",
            "float32\n",
            "float64\n",
            "(708, 30, 26)\n",
            "(708,)\n",
            "float32\n",
            "float64\n",
            "torch.Size([2922, 30, 26]) torch.Size([2922])\n",
            "torch.Size([708, 30, 26]) torch.Size([708])\n"
          ]
        },
        {
          "output_type": "stream",
          "name": "stderr",
          "text": [
            "/usr/local/lib/python3.10/dist-packages/torch/nn/modules/rnn.py:71: UserWarning: dropout option adds dropout after all but last recurrent layer, so non-zero dropout expects num_layers greater than 1, but got dropout=0.2 and num_layers=1\n",
            "  warnings.warn(\"dropout option adds dropout after all but last \"\n"
          ]
        },
        {
          "output_type": "stream",
          "name": "stdout",
          "text": [
            "BOM500570 Epoch [10/20], Loss: 0.4643\n",
            "BOM500570 Epoch [20/20], Loss: 0.3219\n",
            "BOM500570 Accuracy on test set: 59.04%\n",
            "(2922, 30, 26)\n",
            "(2922,)\n",
            "float32\n",
            "float64\n",
            "(709, 30, 26)\n",
            "(709,)\n",
            "float32\n",
            "float64\n",
            "torch.Size([2922, 30, 26]) torch.Size([2922])\n",
            "torch.Size([709, 30, 26]) torch.Size([709])\n"
          ]
        },
        {
          "output_type": "stream",
          "name": "stderr",
          "text": [
            "/usr/local/lib/python3.10/dist-packages/torch/nn/modules/rnn.py:71: UserWarning: dropout option adds dropout after all but last recurrent layer, so non-zero dropout expects num_layers greater than 1, but got dropout=0.2 and num_layers=1\n",
            "  warnings.warn(\"dropout option adds dropout after all but last \"\n"
          ]
        },
        {
          "output_type": "stream",
          "name": "stdout",
          "text": [
            "BOM500112 Epoch [10/20], Loss: 1.0245\n",
            "BOM500112 Epoch [20/20], Loss: 0.0260\n",
            "BOM500112 Accuracy on test set: 52.19%\n",
            "(2828, 30, 26)\n",
            "(2828,)\n",
            "float32\n",
            "float64\n",
            "(685, 30, 26)\n",
            "(685,)\n",
            "float32\n",
            "float64\n",
            "torch.Size([2828, 30, 26]) torch.Size([2828])\n",
            "torch.Size([685, 30, 26]) torch.Size([685])\n"
          ]
        },
        {
          "output_type": "stream",
          "name": "stderr",
          "text": [
            "/usr/local/lib/python3.10/dist-packages/torch/nn/modules/rnn.py:71: UserWarning: dropout option adds dropout after all but last recurrent layer, so non-zero dropout expects num_layers greater than 1, but got dropout=0.2 and num_layers=1\n",
            "  warnings.warn(\"dropout option adds dropout after all but last \"\n"
          ]
        },
        {
          "output_type": "stream",
          "name": "stdout",
          "text": [
            "BOM532540 Epoch [10/20], Loss: 0.5186\n",
            "BOM532540 Epoch [20/20], Loss: 0.2744\n",
            "BOM532540 Accuracy on test set: 65.69%\n",
            "(2925, 30, 26)\n",
            "(2925,)\n",
            "float32\n",
            "float64\n",
            "(709, 30, 26)\n",
            "(709,)\n",
            "float32\n",
            "float64\n",
            "torch.Size([2925, 30, 26]) torch.Size([2925])\n",
            "torch.Size([709, 30, 26]) torch.Size([709])\n"
          ]
        },
        {
          "output_type": "stream",
          "name": "stderr",
          "text": [
            "/usr/local/lib/python3.10/dist-packages/torch/nn/modules/rnn.py:71: UserWarning: dropout option adds dropout after all but last recurrent layer, so non-zero dropout expects num_layers greater than 1, but got dropout=0.2 and num_layers=1\n",
            "  warnings.warn(\"dropout option adds dropout after all but last \"\n"
          ]
        },
        {
          "output_type": "stream",
          "name": "stdout",
          "text": [
            "BOM500209 Epoch [10/20], Loss: 0.2219\n",
            "BOM500209 Epoch [20/20], Loss: 0.3182\n",
            "BOM500209 Accuracy on test set: 57.26%\n",
            "(2922, 30, 26)\n",
            "(2922,)\n",
            "float32\n",
            "float64\n",
            "(709, 30, 26)\n",
            "(709,)\n",
            "float32\n",
            "float64\n",
            "torch.Size([2922, 30, 26]) torch.Size([2922])\n",
            "torch.Size([709, 30, 26]) torch.Size([709])\n"
          ]
        },
        {
          "output_type": "stream",
          "name": "stderr",
          "text": [
            "/usr/local/lib/python3.10/dist-packages/torch/nn/modules/rnn.py:71: UserWarning: dropout option adds dropout after all but last recurrent layer, so non-zero dropout expects num_layers greater than 1, but got dropout=0.2 and num_layers=1\n",
            "  warnings.warn(\"dropout option adds dropout after all but last \"\n"
          ]
        },
        {
          "output_type": "stream",
          "name": "stdout",
          "text": [
            "BOM500295 Epoch [10/20], Loss: 0.5143\n",
            "BOM500295 Epoch [20/20], Loss: 0.0642\n",
            "BOM500295 Accuracy on test set: 63.05%\n",
            "(2926, 30, 26)\n",
            "(2926,)\n",
            "float32\n",
            "float64\n",
            "(709, 30, 26)\n",
            "(709,)\n",
            "float32\n",
            "float64\n",
            "torch.Size([2926, 30, 26]) torch.Size([2926])\n",
            "torch.Size([709, 30, 26]) torch.Size([709])\n"
          ]
        },
        {
          "output_type": "stream",
          "name": "stderr",
          "text": [
            "/usr/local/lib/python3.10/dist-packages/torch/nn/modules/rnn.py:71: UserWarning: dropout option adds dropout after all but last recurrent layer, so non-zero dropout expects num_layers greater than 1, but got dropout=0.2 and num_layers=1\n",
            "  warnings.warn(\"dropout option adds dropout after all but last \"\n"
          ]
        },
        {
          "output_type": "stream",
          "name": "stdout",
          "text": [
            "BOM532174 Epoch [10/20], Loss: 0.0991\n",
            "BOM532174 Epoch [20/20], Loss: 0.8957\n",
            "BOM532174 Accuracy on test set: 57.40%\n",
            "(2925, 30, 26)\n",
            "(2925,)\n",
            "float32\n",
            "float64\n",
            "(709, 30, 26)\n",
            "(709,)\n",
            "float32\n",
            "float64\n",
            "torch.Size([2925, 30, 26]) torch.Size([2925])\n",
            "torch.Size([709, 30, 26]) torch.Size([709])\n"
          ]
        },
        {
          "output_type": "stream",
          "name": "stderr",
          "text": [
            "/usr/local/lib/python3.10/dist-packages/torch/nn/modules/rnn.py:71: UserWarning: dropout option adds dropout after all but last recurrent layer, so non-zero dropout expects num_layers greater than 1, but got dropout=0.2 and num_layers=1\n",
            "  warnings.warn(\"dropout option adds dropout after all but last \"\n"
          ]
        },
        {
          "output_type": "stream",
          "name": "stdout",
          "text": [
            "BOM500180 Epoch [10/20], Loss: 0.0751\n",
            "BOM500180 Epoch [20/20], Loss: 0.7834\n",
            "BOM500180 Accuracy on test set: 39.92%\n",
            "(2926, 30, 26)\n",
            "(2926,)\n",
            "float32\n",
            "float64\n",
            "(709, 30, 26)\n",
            "(709,)\n",
            "float32\n",
            "float64\n",
            "torch.Size([2926, 30, 26]) torch.Size([2926])\n",
            "torch.Size([709, 30, 26]) torch.Size([709])\n"
          ]
        },
        {
          "output_type": "stream",
          "name": "stderr",
          "text": [
            "/usr/local/lib/python3.10/dist-packages/torch/nn/modules/rnn.py:71: UserWarning: dropout option adds dropout after all but last recurrent layer, so non-zero dropout expects num_layers greater than 1, but got dropout=0.2 and num_layers=1\n",
            "  warnings.warn(\"dropout option adds dropout after all but last \"\n"
          ]
        },
        {
          "output_type": "stream",
          "name": "stdout",
          "text": [
            "BOM500696 Epoch [10/20], Loss: 0.7803\n",
            "BOM500696 Epoch [20/20], Loss: 0.6028\n",
            "BOM500696 Accuracy on test set: 51.06%\n",
            "(2906, 30, 26)\n",
            "(2906,)\n",
            "float32\n",
            "float64\n",
            "(705, 30, 26)\n",
            "(705,)\n",
            "float32\n",
            "float64\n",
            "torch.Size([2906, 30, 26]) torch.Size([2906])\n",
            "torch.Size([705, 30, 26]) torch.Size([705])\n"
          ]
        },
        {
          "output_type": "stream",
          "name": "stderr",
          "text": [
            "/usr/local/lib/python3.10/dist-packages/torch/nn/modules/rnn.py:71: UserWarning: dropout option adds dropout after all but last recurrent layer, so non-zero dropout expects num_layers greater than 1, but got dropout=0.2 and num_layers=1\n",
            "  warnings.warn(\"dropout option adds dropout after all but last \"\n"
          ]
        },
        {
          "output_type": "stream",
          "name": "stdout",
          "text": [
            "BOM500510 Epoch [10/20], Loss: 0.4299\n",
            "BOM500510 Epoch [20/20], Loss: 0.2651\n",
            "BOM500510 Accuracy on test set: 45.82%\n",
            "(2926, 30, 26)\n",
            "(2926,)\n",
            "float32\n",
            "float64\n",
            "(709, 30, 26)\n",
            "(709,)\n",
            "float32\n",
            "float64\n",
            "torch.Size([2926, 30, 26]) torch.Size([2926])\n",
            "torch.Size([709, 30, 26]) torch.Size([709])\n"
          ]
        },
        {
          "output_type": "stream",
          "name": "stderr",
          "text": [
            "/usr/local/lib/python3.10/dist-packages/torch/nn/modules/rnn.py:71: UserWarning: dropout option adds dropout after all but last recurrent layer, so non-zero dropout expects num_layers greater than 1, but got dropout=0.2 and num_layers=1\n",
            "  warnings.warn(\"dropout option adds dropout after all but last \"\n"
          ]
        },
        {
          "output_type": "stream",
          "name": "stdout",
          "text": [
            "BOM500247 Epoch [10/20], Loss: 0.2333\n",
            "BOM500247 Epoch [20/20], Loss: 0.6643\n",
            "BOM500247 Accuracy on test set: 59.24%\n",
            "(2926, 30, 26)\n",
            "(2926,)\n",
            "float32\n",
            "float64\n",
            "(710, 30, 26)\n",
            "(710,)\n",
            "float32\n",
            "float64\n",
            "torch.Size([2926, 30, 26]) torch.Size([2926])\n",
            "torch.Size([710, 30, 26]) torch.Size([710])\n"
          ]
        },
        {
          "output_type": "stream",
          "name": "stderr",
          "text": [
            "/usr/local/lib/python3.10/dist-packages/torch/nn/modules/rnn.py:71: UserWarning: dropout option adds dropout after all but last recurrent layer, so non-zero dropout expects num_layers greater than 1, but got dropout=0.2 and num_layers=1\n",
            "  warnings.warn(\"dropout option adds dropout after all but last \"\n"
          ]
        },
        {
          "output_type": "stream",
          "name": "stdout",
          "text": [
            "BOM500520 Epoch [10/20], Loss: 0.1082\n",
            "BOM500520 Epoch [20/20], Loss: 0.3744\n",
            "BOM500520 Accuracy on test set: 61.27%\n",
            "(2175, 30, 26)\n",
            "(2175,)\n",
            "float32\n",
            "float64\n",
            "(522, 30, 26)\n",
            "(522,)\n",
            "float32\n",
            "float64\n",
            "torch.Size([2175, 30, 26]) torch.Size([2175])\n",
            "torch.Size([522, 30, 26]) torch.Size([522])\n"
          ]
        },
        {
          "output_type": "stream",
          "name": "stderr",
          "text": [
            "/usr/local/lib/python3.10/dist-packages/torch/nn/modules/rnn.py:71: UserWarning: dropout option adds dropout after all but last recurrent layer, so non-zero dropout expects num_layers greater than 1, but got dropout=0.2 and num_layers=1\n",
            "  warnings.warn(\"dropout option adds dropout after all but last \"\n"
          ]
        },
        {
          "output_type": "stream",
          "name": "stdout",
          "text": [
            "BOM532921 Epoch [10/20], Loss: 0.2476\n",
            "BOM532921 Epoch [20/20], Loss: 0.3293\n",
            "BOM532921 Accuracy on test set: 44.06%\n",
            "(2079, 30, 26)\n",
            "(2079,)\n",
            "float32\n",
            "float64\n",
            "(498, 30, 26)\n",
            "(498,)\n",
            "float32\n",
            "float64\n",
            "torch.Size([2079, 30, 26]) torch.Size([2079])\n",
            "torch.Size([498, 30, 26]) torch.Size([498])\n"
          ]
        },
        {
          "output_type": "stream",
          "name": "stderr",
          "text": [
            "/usr/local/lib/python3.10/dist-packages/torch/nn/modules/rnn.py:71: UserWarning: dropout option adds dropout after all but last recurrent layer, so non-zero dropout expects num_layers greater than 1, but got dropout=0.2 and num_layers=1\n",
            "  warnings.warn(\"dropout option adds dropout after all but last \"\n"
          ]
        },
        {
          "output_type": "stream",
          "name": "stdout",
          "text": [
            "BOM532977 Epoch [10/20], Loss: 0.5393\n",
            "BOM532977 Epoch [20/20], Loss: 0.5400\n",
            "BOM532977 Accuracy on test set: 65.26%\n",
            "(2925, 30, 26)\n",
            "(2925,)\n",
            "float32\n",
            "float64\n",
            "(709, 30, 26)\n",
            "(709,)\n",
            "float32\n",
            "float64\n",
            "torch.Size([2925, 30, 26]) torch.Size([2925])\n",
            "torch.Size([709, 30, 26]) torch.Size([709])\n"
          ]
        },
        {
          "output_type": "stream",
          "name": "stderr",
          "text": [
            "/usr/local/lib/python3.10/dist-packages/torch/nn/modules/rnn.py:71: UserWarning: dropout option adds dropout after all but last recurrent layer, so non-zero dropout expects num_layers greater than 1, but got dropout=0.2 and num_layers=1\n",
            "  warnings.warn(\"dropout option adds dropout after all but last \"\n"
          ]
        },
        {
          "output_type": "stream",
          "name": "stdout",
          "text": [
            "BOM500182 Epoch [10/20], Loss: 0.5131\n",
            "BOM500182 Epoch [20/20], Loss: 0.2605\n",
            "BOM500182 Accuracy on test set: 44.57%\n",
            "(2926, 30, 26)\n",
            "(2926,)\n",
            "float32\n",
            "float64\n",
            "(709, 30, 26)\n",
            "(709,)\n",
            "float32\n",
            "float64\n",
            "torch.Size([2926, 30, 26]) torch.Size([2926])\n",
            "torch.Size([709, 30, 26]) torch.Size([709])\n"
          ]
        },
        {
          "output_type": "stream",
          "name": "stderr",
          "text": [
            "/usr/local/lib/python3.10/dist-packages/torch/nn/modules/rnn.py:71: UserWarning: dropout option adds dropout after all but last recurrent layer, so non-zero dropout expects num_layers greater than 1, but got dropout=0.2 and num_layers=1\n",
            "  warnings.warn(\"dropout option adds dropout after all but last \"\n"
          ]
        },
        {
          "output_type": "stream",
          "name": "stdout",
          "text": [
            "BOM507685 Epoch [10/20], Loss: 0.0569\n",
            "BOM507685 Epoch [20/20], Loss: 0.2944\n",
            "BOM507685 Accuracy on test set: 46.97%\n",
            "(2566, 30, 26)\n",
            "(2566,)\n",
            "float32\n",
            "float64\n",
            "(619, 30, 26)\n",
            "(619,)\n",
            "float32\n",
            "float64\n",
            "torch.Size([2566, 30, 26]) torch.Size([2566])\n",
            "torch.Size([619, 30, 26]) torch.Size([619])\n"
          ]
        },
        {
          "output_type": "stream",
          "name": "stderr",
          "text": [
            "/usr/local/lib/python3.10/dist-packages/torch/nn/modules/rnn.py:71: UserWarning: dropout option adds dropout after all but last recurrent layer, so non-zero dropout expects num_layers greater than 1, but got dropout=0.2 and num_layers=1\n",
            "  warnings.warn(\"dropout option adds dropout after all but last \"\n"
          ]
        },
        {
          "output_type": "stream",
          "name": "stdout",
          "text": [
            "BOM500010 Epoch [10/20], Loss: 0.9292\n",
            "BOM500010 Epoch [20/20], Loss: 0.5182\n",
            "BOM500010 Accuracy on test set: 33.76%\n",
            "(2922, 30, 26)\n",
            "(2922,)\n",
            "float32\n",
            "float64\n",
            "(708, 30, 26)\n",
            "(708,)\n",
            "float32\n",
            "float64\n",
            "torch.Size([2922, 30, 26]) torch.Size([2922])\n",
            "torch.Size([708, 30, 26]) torch.Size([708])\n"
          ]
        },
        {
          "output_type": "stream",
          "name": "stderr",
          "text": [
            "/usr/local/lib/python3.10/dist-packages/torch/nn/modules/rnn.py:71: UserWarning: dropout option adds dropout after all but last recurrent layer, so non-zero dropout expects num_layers greater than 1, but got dropout=0.2 and num_layers=1\n",
            "  warnings.warn(\"dropout option adds dropout after all but last \"\n"
          ]
        },
        {
          "output_type": "stream",
          "name": "stdout",
          "text": [
            "BOM532454 Epoch [10/20], Loss: 0.2743\n",
            "BOM532454 Epoch [20/20], Loss: 0.3135\n",
            "BOM532454 Accuracy on test set: 37.85%\n",
            "(2926, 30, 26)\n",
            "(2926,)\n",
            "float32\n",
            "float64\n",
            "(709, 30, 26)\n",
            "(709,)\n",
            "float32\n",
            "float64\n",
            "torch.Size([2926, 30, 26]) torch.Size([2926])\n",
            "torch.Size([709, 30, 26]) torch.Size([709])\n"
          ]
        },
        {
          "output_type": "stream",
          "name": "stderr",
          "text": [
            "/usr/local/lib/python3.10/dist-packages/torch/nn/modules/rnn.py:71: UserWarning: dropout option adds dropout after all but last recurrent layer, so non-zero dropout expects num_layers greater than 1, but got dropout=0.2 and num_layers=1\n",
            "  warnings.warn(\"dropout option adds dropout after all but last \"\n"
          ]
        },
        {
          "output_type": "stream",
          "name": "stdout",
          "text": [
            "BOM500820 Epoch [10/20], Loss: 0.3127\n",
            "BOM500820 Epoch [20/20], Loss: 0.3445\n",
            "BOM500820 Accuracy on test set: 64.03%\n",
            "(2926, 30, 26)\n",
            "(2926,)\n",
            "float32\n",
            "float64\n",
            "(710, 30, 26)\n",
            "(710,)\n",
            "float32\n",
            "float64\n",
            "torch.Size([2926, 30, 26]) torch.Size([2926])\n",
            "torch.Size([710, 30, 26]) torch.Size([710])\n"
          ]
        },
        {
          "output_type": "stream",
          "name": "stderr",
          "text": [
            "/usr/local/lib/python3.10/dist-packages/torch/nn/modules/rnn.py:71: UserWarning: dropout option adds dropout after all but last recurrent layer, so non-zero dropout expects num_layers greater than 1, but got dropout=0.2 and num_layers=1\n",
            "  warnings.warn(\"dropout option adds dropout after all but last \"\n"
          ]
        },
        {
          "output_type": "stream",
          "name": "stdout",
          "text": [
            "BOM500312 Epoch [10/20], Loss: 0.0766\n",
            "BOM500312 Epoch [20/20], Loss: 0.0916\n",
            "BOM500312 Accuracy on test set: 37.61%\n",
            "(2205, 30, 26)\n",
            "(2205,)\n",
            "float32\n",
            "float64\n",
            "(529, 30, 26)\n",
            "(529,)\n",
            "float32\n",
            "float64\n",
            "torch.Size([2205, 30, 26]) torch.Size([2205])\n",
            "torch.Size([529, 30, 26]) torch.Size([529])\n"
          ]
        },
        {
          "output_type": "stream",
          "name": "stderr",
          "text": [
            "/usr/local/lib/python3.10/dist-packages/torch/nn/modules/rnn.py:71: UserWarning: dropout option adds dropout after all but last recurrent layer, so non-zero dropout expects num_layers greater than 1, but got dropout=0.2 and num_layers=1\n",
            "  warnings.warn(\"dropout option adds dropout after all but last \"\n"
          ]
        },
        {
          "output_type": "stream",
          "name": "stdout",
          "text": [
            "BOM532898 Epoch [10/20], Loss: 0.5495\n",
            "BOM532898 Epoch [20/20], Loss: 0.2506\n",
            "BOM532898 Accuracy on test set: 26.84%\n",
            "(2926, 30, 26)\n",
            "(2926,)\n",
            "float32\n",
            "float64\n",
            "(710, 30, 26)\n",
            "(710,)\n",
            "float32\n",
            "float64\n",
            "torch.Size([2926, 30, 26]) torch.Size([2926])\n",
            "torch.Size([710, 30, 26]) torch.Size([710])\n"
          ]
        },
        {
          "output_type": "stream",
          "name": "stderr",
          "text": [
            "/usr/local/lib/python3.10/dist-packages/torch/nn/modules/rnn.py:71: UserWarning: dropout option adds dropout after all but last recurrent layer, so non-zero dropout expects num_layers greater than 1, but got dropout=0.2 and num_layers=1\n",
            "  warnings.warn(\"dropout option adds dropout after all but last \"\n"
          ]
        },
        {
          "output_type": "stream",
          "name": "stdout",
          "text": [
            "BOM532187 Epoch [10/20], Loss: 0.5860\n",
            "BOM532187 Epoch [20/20], Loss: 0.0721\n",
            "BOM532187 Accuracy on test set: 11.69%\n",
            "(1595, 30, 26)\n",
            "(1595,)\n",
            "float32\n",
            "float64\n",
            "(377, 30, 26)\n",
            "(377,)\n",
            "float32\n",
            "float64\n",
            "torch.Size([1595, 30, 26]) torch.Size([1595])\n",
            "torch.Size([377, 30, 26]) torch.Size([377])\n"
          ]
        },
        {
          "output_type": "stream",
          "name": "stderr",
          "text": [
            "/usr/local/lib/python3.10/dist-packages/torch/nn/modules/rnn.py:71: UserWarning: dropout option adds dropout after all but last recurrent layer, so non-zero dropout expects num_layers greater than 1, but got dropout=0.2 and num_layers=1\n",
            "  warnings.warn(\"dropout option adds dropout after all but last \"\n"
          ]
        },
        {
          "output_type": "stream",
          "name": "stdout",
          "text": [
            "BOM533278 Epoch [10/20], Loss: 0.4500\n",
            "BOM533278 Epoch [20/20], Loss: 0.3792\n",
            "BOM533278 Accuracy on test set: 39.79%\n",
            "(2789, 30, 26)\n",
            "(2789,)\n",
            "float32\n",
            "float64\n",
            "(675, 30, 26)\n",
            "(675,)\n",
            "float32\n",
            "float64\n",
            "torch.Size([2789, 30, 26]) torch.Size([2789])\n",
            "torch.Size([675, 30, 26]) torch.Size([675])\n"
          ]
        },
        {
          "output_type": "stream",
          "name": "stderr",
          "text": [
            "/usr/local/lib/python3.10/dist-packages/torch/nn/modules/rnn.py:71: UserWarning: dropout option adds dropout after all but last recurrent layer, so non-zero dropout expects num_layers greater than 1, but got dropout=0.2 and num_layers=1\n",
            "  warnings.warn(\"dropout option adds dropout after all but last \"\n"
          ]
        },
        {
          "output_type": "stream",
          "name": "stdout",
          "text": [
            "BOM532555 Epoch [10/20], Loss: 0.7574\n",
            "BOM532555 Epoch [20/20], Loss: 0.4079\n",
            "BOM532555 Accuracy on test set: 54.22%\n",
            "(1910, 30, 26)\n",
            "(1910,)\n",
            "float32\n",
            "float64\n",
            "(456, 30, 26)\n",
            "(456,)\n",
            "float32\n",
            "float64\n",
            "torch.Size([1910, 30, 26]) torch.Size([1910])\n",
            "torch.Size([456, 30, 26]) torch.Size([456])\n"
          ]
        },
        {
          "output_type": "stream",
          "name": "stderr",
          "text": [
            "/usr/local/lib/python3.10/dist-packages/torch/nn/modules/rnn.py:71: UserWarning: dropout option adds dropout after all but last recurrent layer, so non-zero dropout expects num_layers greater than 1, but got dropout=0.2 and num_layers=1\n",
            "  warnings.warn(\"dropout option adds dropout after all but last \"\n"
          ]
        },
        {
          "output_type": "stream",
          "name": "stdout",
          "text": [
            "BOM570001 Epoch [10/20], Loss: 0.1893\n",
            "BOM570001 Epoch [20/20], Loss: 0.6618\n",
            "BOM570001 Accuracy on test set: 63.82%\n"
          ]
        }
      ]
    },
    {
      "cell_type": "code",
      "source": [
        "print(traningAccuracies)"
      ],
      "metadata": {
        "colab": {
          "base_uri": "https://localhost:8080/"
        },
        "id": "L2rkcM7hCBCC",
        "outputId": "e3caa66e-fffe-4307-c0e4-c6ded376a0c4"
      },
      "execution_count": 57,
      "outputs": [
        {
          "output_type": "stream",
          "name": "stdout",
          "text": [
            "{'BOM500875': 0.577683615819209, 'BOM532939': 0.626953125, 'BOM524715': 0.3884180790960452, 'BOM532215': 0.7207334273624824, 'BOM532648': 0.4165366614664587, 'BOM532500': 0.43723554301833567, 'BOM500470': 0.4378531073446328, 'BOM500570': 0.5903954802259888, 'BOM500112': 0.5218617771509168, 'BOM532540': 0.656934306569343, 'BOM500209': 0.5726375176304654, 'BOM500295': 0.6304654442877292, 'BOM532174': 0.5740479548660085, 'BOM500180': 0.3991537376586742, 'BOM500696': 0.5105782792665726, 'BOM500510': 0.4581560283687943, 'BOM500247': 0.5923836389280677, 'BOM500520': 0.6126760563380281, 'BOM532921': 0.44061302681992337, 'BOM532977': 0.6526104417670683, 'BOM500182': 0.44569816643159377, 'BOM507685': 0.4696755994358251, 'BOM500010': 0.3376413570274637, 'BOM532454': 0.3785310734463277, 'BOM500820': 0.6403385049365303, 'BOM500312': 0.376056338028169, 'BOM532898': 0.2684310018903592, 'BOM532187': 0.11690140845070422, 'BOM533278': 0.3978779840848806, 'BOM532555': 0.5422222222222223, 'BOM570001': 0.6381578947368421}\n"
          ]
        }
      ]
    },
    {
      "cell_type": "code",
      "source": [
        "print('Classification Accuracies for each of 31 stock on Testing set is as follows: ')\n",
        "\n",
        "print (\"{:<10} {:<5}\".format('Stock','Accuracy'))\n",
        "for k, v in traningAccuracies.items():\n",
        "        accuracy = v\n",
        "        print (\"{:<8} {:<15}\".format(k, accuracy))"
      ],
      "metadata": {
        "colab": {
          "base_uri": "https://localhost:8080/"
        },
        "id": "asCkFpO2CvcL",
        "outputId": "a6624743-3313-416b-b05a-cb3c9db6bd33"
      },
      "execution_count": 56,
      "outputs": [
        {
          "output_type": "stream",
          "name": "stdout",
          "text": [
            "Classification Accuracies for each of 31 stock on Testing set is as follows: \n",
            "Stock      Accuracy\n",
            "BOM500875 0.577683615819209\n",
            "BOM532939 0.626953125    \n",
            "BOM524715 0.3884180790960452\n",
            "BOM532215 0.7207334273624824\n",
            "BOM532648 0.4165366614664587\n",
            "BOM532500 0.43723554301833567\n",
            "BOM500470 0.4378531073446328\n",
            "BOM500570 0.5903954802259888\n",
            "BOM500112 0.5218617771509168\n",
            "BOM532540 0.656934306569343\n",
            "BOM500209 0.5726375176304654\n",
            "BOM500295 0.6304654442877292\n",
            "BOM532174 0.5740479548660085\n",
            "BOM500180 0.3991537376586742\n",
            "BOM500696 0.5105782792665726\n",
            "BOM500510 0.4581560283687943\n",
            "BOM500247 0.5923836389280677\n",
            "BOM500520 0.6126760563380281\n",
            "BOM532921 0.44061302681992337\n",
            "BOM532977 0.6526104417670683\n",
            "BOM500182 0.44569816643159377\n",
            "BOM507685 0.4696755994358251\n",
            "BOM500010 0.3376413570274637\n",
            "BOM532454 0.3785310734463277\n",
            "BOM500820 0.6403385049365303\n",
            "BOM500312 0.376056338028169\n",
            "BOM532898 0.2684310018903592\n",
            "BOM532187 0.11690140845070422\n",
            "BOM533278 0.3978779840848806\n",
            "BOM532555 0.5422222222222223\n",
            "BOM570001 0.6381578947368421\n"
          ]
        }
      ]
    },
    {
      "cell_type": "markdown",
      "source": [
        "## Portfolio Optimization"
      ],
      "metadata": {
        "id": "lbnSGxvIGOT7"
      }
    },
    {
      "cell_type": "code",
      "source": [],
      "metadata": {
        "id": "LsJWNVZNGR31"
      },
      "execution_count": null,
      "outputs": []
    }
  ]
}